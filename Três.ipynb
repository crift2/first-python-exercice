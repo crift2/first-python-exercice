{
 "cells": [
  {
   "cell_type": "markdown",
   "metadata": {},
   "source": [
    "# California Prop 64 Analysis 2016\n",
    "\n",
    "By Carlos Turdera\n",
    "\n",
    "Sample of notebook to Python for Data Journalists MOOC with Ben Welsh, LA Times\n",
    "\n"
   ]
  },
  {
   "cell_type": "code",
   "execution_count": 49,
   "metadata": {
    "collapsed": true
   },
   "outputs": [],
   "source": [
    "import pandas as pd"
   ]
  },
  {
   "cell_type": "code",
   "execution_count": 50,
   "metadata": {
    "collapsed": true
   },
   "outputs": [],
   "source": [
    "%matplotlib inline"
   ]
  },
  {
   "cell_type": "markdown",
   "metadata": {},
   "source": [
    "Aquí creo la categoría props trayendo la lista inicial de csv"
   ]
  },
  {
   "cell_type": "code",
   "execution_count": 51,
   "metadata": {
    "collapsed": true
   },
   "outputs": [],
   "source": [
    "props = pd.read_csv(\"http://www.firstpythonnotebook.org/_static/committees.csv\")"
   ]
  },
  {
   "cell_type": "code",
   "execution_count": 52,
   "metadata": {},
   "outputs": [
    {
     "data": {
      "text/plain": [
       "<bound method DataFrame.head of                                           ocd_prop_id  calaccess_prop_id  \\\n",
       "0    ocd-contest/b51dc64d-3562-4913-a190-69f5088c22a6            1376258   \n",
       "1    ocd-contest/b51dc64d-3562-4913-a190-69f5088c22a6            1376258   \n",
       "2    ocd-contest/b51dc64d-3562-4913-a190-69f5088c22a6            1376258   \n",
       "3    ocd-contest/b51dc64d-3562-4913-a190-69f5088c22a6            1376258   \n",
       "4    ocd-contest/85990193-9d6f-4600-b8e7-bf1317841d82            1362198   \n",
       "5    ocd-contest/85990193-9d6f-4600-b8e7-bf1317841d82            1362198   \n",
       "6    ocd-contest/85990193-9d6f-4600-b8e7-bf1317841d82            1362198   \n",
       "7    ocd-contest/9fb6a199-7520-433c-a290-83e016a9d389            1376142   \n",
       "8    ocd-contest/9fb6a199-7520-433c-a290-83e016a9d389            1376142   \n",
       "9    ocd-contest/9fb6a199-7520-433c-a290-83e016a9d389            1376142   \n",
       "10   ocd-contest/9fb6a199-7520-433c-a290-83e016a9d389            1376142   \n",
       "11   ocd-contest/e0c5f9f0-63a9-4c15-9a5c-017e20ac15bc            1381642   \n",
       "12   ocd-contest/e0c5f9f0-63a9-4c15-9a5c-017e20ac15bc            1381642   \n",
       "13   ocd-contest/e0c5f9f0-63a9-4c15-9a5c-017e20ac15bc            1381642   \n",
       "14   ocd-contest/e0c5f9f0-63a9-4c15-9a5c-017e20ac15bc            1381642   \n",
       "15   ocd-contest/446ec3da-7de1-45f0-9f97-228e53c6a9f6            1382647   \n",
       "16   ocd-contest/446ec3da-7de1-45f0-9f97-228e53c6a9f6            1382647   \n",
       "17   ocd-contest/446ec3da-7de1-45f0-9f97-228e53c6a9f6            1382647   \n",
       "18   ocd-contest/446ec3da-7de1-45f0-9f97-228e53c6a9f6            1382647   \n",
       "19   ocd-contest/446ec3da-7de1-45f0-9f97-228e53c6a9f6            1382647   \n",
       "20   ocd-contest/446ec3da-7de1-45f0-9f97-228e53c6a9f6            1382647   \n",
       "21   ocd-contest/446ec3da-7de1-45f0-9f97-228e53c6a9f6            1382647   \n",
       "22   ocd-contest/446ec3da-7de1-45f0-9f97-228e53c6a9f6            1382647   \n",
       "23   ocd-contest/c2efe0d3-e9f4-4dfd-a0b7-a35757ef4ae9            1381640   \n",
       "24   ocd-contest/c2efe0d3-e9f4-4dfd-a0b7-a35757ef4ae9            1381640   \n",
       "25   ocd-contest/c2efe0d3-e9f4-4dfd-a0b7-a35757ef4ae9            1381640   \n",
       "26   ocd-contest/c2efe0d3-e9f4-4dfd-a0b7-a35757ef4ae9            1381640   \n",
       "27   ocd-contest/c2efe0d3-e9f4-4dfd-a0b7-a35757ef4ae9            1381640   \n",
       "28   ocd-contest/c2efe0d3-e9f4-4dfd-a0b7-a35757ef4ae9            1381640   \n",
       "29   ocd-contest/c2efe0d3-e9f4-4dfd-a0b7-a35757ef4ae9            1381640   \n",
       "..                                                ...                ...   \n",
       "72   ocd-contest/e02dc48a-2ed3-4a87-859b-26c90f0539e7            1381803   \n",
       "73   ocd-contest/e02dc48a-2ed3-4a87-859b-26c90f0539e7            1381803   \n",
       "74   ocd-contest/232cb72c-1b11-4293-b4e2-a181e80d172e            1381868   \n",
       "75   ocd-contest/232cb72c-1b11-4293-b4e2-a181e80d172e            1381868   \n",
       "76   ocd-contest/232cb72c-1b11-4293-b4e2-a181e80d172e            1381868   \n",
       "77   ocd-contest/232cb72c-1b11-4293-b4e2-a181e80d172e            1381868   \n",
       "78   ocd-contest/232cb72c-1b11-4293-b4e2-a181e80d172e            1381868   \n",
       "79   ocd-contest/232cb72c-1b11-4293-b4e2-a181e80d172e            1381868   \n",
       "80   ocd-contest/232cb72c-1b11-4293-b4e2-a181e80d172e            1381868   \n",
       "81   ocd-contest/232cb72c-1b11-4293-b4e2-a181e80d172e            1381868   \n",
       "82   ocd-contest/232cb72c-1b11-4293-b4e2-a181e80d172e            1381868   \n",
       "83   ocd-contest/232cb72c-1b11-4293-b4e2-a181e80d172e            1381868   \n",
       "84   ocd-contest/232cb72c-1b11-4293-b4e2-a181e80d172e            1381868   \n",
       "85   ocd-contest/cac74f20-f59f-4857-8750-5f832a3549c9            1381520   \n",
       "86   ocd-contest/19eca91d-e494-4ee0-a345-8f96eeec8a3e            1381724   \n",
       "87   ocd-contest/19eca91d-e494-4ee0-a345-8f96eeec8a3e            1381724   \n",
       "88   ocd-contest/19eca91d-e494-4ee0-a345-8f96eeec8a3e            1381724   \n",
       "89   ocd-contest/19eca91d-e494-4ee0-a345-8f96eeec8a3e            1381724   \n",
       "90   ocd-contest/19eca91d-e494-4ee0-a345-8f96eeec8a3e            1381724   \n",
       "91   ocd-contest/19eca91d-e494-4ee0-a345-8f96eeec8a3e            1381724   \n",
       "92   ocd-contest/19eca91d-e494-4ee0-a345-8f96eeec8a3e            1381724   \n",
       "93   ocd-contest/19eca91d-e494-4ee0-a345-8f96eeec8a3e            1381724   \n",
       "94   ocd-contest/19eca91d-e494-4ee0-a345-8f96eeec8a3e            1381724   \n",
       "95   ocd-contest/7495cdbe-1aa7-4c26-9a55-aa4130347b95            1372638   \n",
       "96   ocd-contest/7495cdbe-1aa7-4c26-9a55-aa4130347b95            1372638   \n",
       "97   ocd-contest/7495cdbe-1aa7-4c26-9a55-aa4130347b95            1372638   \n",
       "98   ocd-contest/7495cdbe-1aa7-4c26-9a55-aa4130347b95            1372638   \n",
       "99   ocd-contest/7495cdbe-1aa7-4c26-9a55-aa4130347b95            1372638   \n",
       "100  ocd-contest/7495cdbe-1aa7-4c26-9a55-aa4130347b95            1372638   \n",
       "101  ocd-contest/7495cdbe-1aa7-4c26-9a55-aa4130347b95            1372638   \n",
       "\n",
       "     ccdc_prop_id                                          prop_name  \\\n",
       "0              70  PROPOSITION 051 - SCHOOL BONDS. FUNDING FOR K-...   \n",
       "1              70  PROPOSITION 051 - SCHOOL BONDS. FUNDING FOR K-...   \n",
       "2              70  PROPOSITION 051 - SCHOOL BONDS. FUNDING FOR K-...   \n",
       "3              70  PROPOSITION 051 - SCHOOL BONDS. FUNDING FOR K-...   \n",
       "4              71  PROPOSITION 052 - STATE FEES ON HOSPITALS. FED...   \n",
       "5              71  PROPOSITION 052 - STATE FEES ON HOSPITALS. FED...   \n",
       "6              71  PROPOSITION 052 - STATE FEES ON HOSPITALS. FED...   \n",
       "7              72  PROPOSITION 053 - REVENUE BONDS. STATEWIDE VOT...   \n",
       "8              72  PROPOSITION 053 - REVENUE BONDS. STATEWIDE VOT...   \n",
       "9              72  PROPOSITION 053 - REVENUE BONDS. STATEWIDE VOT...   \n",
       "10             72  PROPOSITION 053 - REVENUE BONDS. STATEWIDE VOT...   \n",
       "11             73  PROPOSITION 054 - LEGISLATURE. LEGISLATION AND...   \n",
       "12             73  PROPOSITION 054 - LEGISLATURE. LEGISLATION AND...   \n",
       "13             73  PROPOSITION 054 - LEGISLATURE. LEGISLATION AND...   \n",
       "14             73  PROPOSITION 054 - LEGISLATURE. LEGISLATION AND...   \n",
       "15             74  PROPOSITION 055 - TAX EXTENSION TO FUND EDUCAT...   \n",
       "16             74  PROPOSITION 055 - TAX EXTENSION TO FUND EDUCAT...   \n",
       "17             74  PROPOSITION 055 - TAX EXTENSION TO FUND EDUCAT...   \n",
       "18             74  PROPOSITION 055 - TAX EXTENSION TO FUND EDUCAT...   \n",
       "19             74  PROPOSITION 055 - TAX EXTENSION TO FUND EDUCAT...   \n",
       "20             74  PROPOSITION 055 - TAX EXTENSION TO FUND EDUCAT...   \n",
       "21             74  PROPOSITION 055 - TAX EXTENSION TO FUND EDUCAT...   \n",
       "22             74  PROPOSITION 055 - TAX EXTENSION TO FUND EDUCAT...   \n",
       "23             75  PROPOSITION 056 - CIGARETTE TAX TO FUND HEALTH...   \n",
       "24             75  PROPOSITION 056 - CIGARETTE TAX TO FUND HEALTH...   \n",
       "25             75  PROPOSITION 056 - CIGARETTE TAX TO FUND HEALTH...   \n",
       "26             75  PROPOSITION 056 - CIGARETTE TAX TO FUND HEALTH...   \n",
       "27             75  PROPOSITION 056 - CIGARETTE TAX TO FUND HEALTH...   \n",
       "28             75  PROPOSITION 056 - CIGARETTE TAX TO FUND HEALTH...   \n",
       "29             75  PROPOSITION 056 - CIGARETTE TAX TO FUND HEALTH...   \n",
       "..            ...                                                ...   \n",
       "72             82  PROPOSITION 063- FIREARMS. AMMUNITION SALES. I...   \n",
       "73             82  PROPOSITION 063- FIREARMS. AMMUNITION SALES. I...   \n",
       "74             83  PROPOSITION 064- MARIJUANA LEGALIZATION. INITI...   \n",
       "75             83  PROPOSITION 064- MARIJUANA LEGALIZATION. INITI...   \n",
       "76             83  PROPOSITION 064- MARIJUANA LEGALIZATION. INITI...   \n",
       "77             83  PROPOSITION 064- MARIJUANA LEGALIZATION. INITI...   \n",
       "78             83  PROPOSITION 064- MARIJUANA LEGALIZATION. INITI...   \n",
       "79             83  PROPOSITION 064- MARIJUANA LEGALIZATION. INITI...   \n",
       "80             83  PROPOSITION 064- MARIJUANA LEGALIZATION. INITI...   \n",
       "81             83  PROPOSITION 064- MARIJUANA LEGALIZATION. INITI...   \n",
       "82             83  PROPOSITION 064- MARIJUANA LEGALIZATION. INITI...   \n",
       "83             83  PROPOSITION 064- MARIJUANA LEGALIZATION. INITI...   \n",
       "84             83  PROPOSITION 064- MARIJUANA LEGALIZATION. INITI...   \n",
       "85             84  PROPOSITION 065- CARRY-OUT BAGS. CHARGES. INIT...   \n",
       "86             85  PROPOSITION 066- DEATH PENALTY. PROCEDURES. IN...   \n",
       "87             85  PROPOSITION 066- DEATH PENALTY. PROCEDURES. IN...   \n",
       "88             85  PROPOSITION 066- DEATH PENALTY. PROCEDURES. IN...   \n",
       "89             85  PROPOSITION 066- DEATH PENALTY. PROCEDURES. IN...   \n",
       "90             85  PROPOSITION 066- DEATH PENALTY. PROCEDURES. IN...   \n",
       "91             85  PROPOSITION 066- DEATH PENALTY. PROCEDURES. IN...   \n",
       "92             85  PROPOSITION 066- DEATH PENALTY. PROCEDURES. IN...   \n",
       "93             85  PROPOSITION 066- DEATH PENALTY. PROCEDURES. IN...   \n",
       "94             85  PROPOSITION 066- DEATH PENALTY. PROCEDURES. IN...   \n",
       "95             86  PROPOSITION 067- REFERENDUM TO OVERTURN BAN ON...   \n",
       "96             86  PROPOSITION 067- REFERENDUM TO OVERTURN BAN ON...   \n",
       "97             86  PROPOSITION 067- REFERENDUM TO OVERTURN BAN ON...   \n",
       "98             86  PROPOSITION 067- REFERENDUM TO OVERTURN BAN ON...   \n",
       "99             86  PROPOSITION 067- REFERENDUM TO OVERTURN BAN ON...   \n",
       "100            86  PROPOSITION 067- REFERENDUM TO OVERTURN BAN ON...   \n",
       "101            86  PROPOSITION 067- REFERENDUM TO OVERTURN BAN ON...   \n",
       "\n",
       "     ccdc_committee_id  calaccess_committee_id  \\\n",
       "0                  382                 1374469   \n",
       "1                  383                 1220380   \n",
       "2                  384                 1282321   \n",
       "3                  385                 1382843   \n",
       "4                  386                 1362973   \n",
       "5                  387                 1381488   \n",
       "6                  388                 1373047   \n",
       "7                  389                 1376040   \n",
       "8                  390                 1378875   \n",
       "9                  391                  761010   \n",
       "10                 392                 1389930   \n",
       "11                 396                 1389997   \n",
       "12                 393                 1381029   \n",
       "13                 394                 1386494   \n",
       "14                 395                 1385928   \n",
       "15                 397                 1384591   \n",
       "16                 398                 1381382   \n",
       "17                 399                 1391170   \n",
       "18                 400                 1390602   \n",
       "19                 401                 1385538   \n",
       "20                 402                 1385886   \n",
       "21                 403                 1372760   \n",
       "22                 404                  931704   \n",
       "23                 405                 1388865   \n",
       "24                 406                 1383858   \n",
       "25                 407                 1386637   \n",
       "26                 408                 1377991   \n",
       "27                 409                 1384591   \n",
       "28                 410                 1385538   \n",
       "29                 411                 1372760   \n",
       "..                 ...                     ...   \n",
       "72                 454                 1380675   \n",
       "73                 455                 1387279   \n",
       "74                 456                 1381808   \n",
       "75                 457                 1382525   \n",
       "76                 458                 1376077   \n",
       "77                 459                 1382568   \n",
       "78                 460                 1371855   \n",
       "79                 461                 1343793   \n",
       "80                 462                 1386560   \n",
       "81                 463                 1387789   \n",
       "82                 464                 1385506   \n",
       "83                 465                 1385745   \n",
       "84                 466                 1390962   \n",
       "85                 467                 1372902   \n",
       "86                 468                 1346266   \n",
       "87                 469                 1302403   \n",
       "88                 470                 1385745   \n",
       "89                 471                 1386494   \n",
       "90                 472                 1380590   \n",
       "91                 473                 1391170   \n",
       "92                 474                 1317554   \n",
       "93                 475                 1336580   \n",
       "94                 476                 1383946   \n",
       "95                 477                 1372900   \n",
       "96                 478                 1372902   \n",
       "97                 479                 1329332   \n",
       "98                 480                 1374885   \n",
       "99                 481                 1346973   \n",
       "100                482                 1381938   \n",
       "101                483                 1389817   \n",
       "\n",
       "                                        committee_name committee_position  \n",
       "0    YES ON PROPOSITION 51 - CALIFORNIANS FOR QUALI...            SUPPORT  \n",
       "1    COMMUNITY COLLEGE FACILITY COALITION ISSUES CO...            SUPPORT  \n",
       "2    TORLAKSON'S INVEST IN CALIFORNIA A BALLOT MEAS...            SUPPORT  \n",
       "3    CALIFORNIA TAXPAYERS AND EDUCATORS OPPOSED TO ...             OPPOSE  \n",
       "4    YES ON PROPOSITION 52 - A COALITION OF CALIFOR...            SUPPORT  \n",
       "5    CALIFORNIANS FOR HOSPITAL ACCOUNTABILITY AND Q...             OPPOSE  \n",
       "6    SERVICE EMPLOYEES INTERNATIONAL UNION, UNITED ...             OPPOSE  \n",
       "7                        YES ON 53 - STOP BLANK CHECKS            SUPPORT  \n",
       "8    NO ON PROP 53 - CALIFORNIANS TO PROTECT LOCAL ...             OPPOSE  \n",
       "9    CA BUSINESS PAC, SP0NSORED BY CA CHAMBER OF CO...             OPPOSE  \n",
       "10         NO ON 53, NEIGHBORS DEFENDING LOCAL CONTROL             OPPOSE  \n",
       "11   CALIFORNIA COMMON CAUSE -- YES ON 54 AND 59 (N...            SUPPORT  \n",
       "12   YES ON 54 - VOTERS FIRST, NOT SPECIAL INTEREST...            SUPPORT  \n",
       "13   PROTEUS ACTION LEAGUE NON-PROFIT 501 (C)(4) OR...            SUPPORT  \n",
       "14           CALIFORNIANS FOR AN EFFECTIVE LEGISLATURE             OPPOSE  \n",
       "15   MILLION VOTER PROJECT ACTION FUND - YES ON 55 ...            SUPPORT  \n",
       "16   YES ON 55 - CALIFORNIANS FOR BUDGET STABILITY,...            SUPPORT  \n",
       "17   MILLION VOTER PROJECT ACTION FUND - YES ON 55,...            SUPPORT  \n",
       "18   COMMON SENSE KIDS ACTION, INC., YES ON PROPS. ...            SUPPORT  \n",
       "19   CALIFORNIA KIDS CAMPAIGN, YES ON PROPS 55 & 56...            SUPPORT  \n",
       "20   NO ON PROPOSITION 55, CALIFORNIA'S FUTURE PAC,...             OPPOSE  \n",
       "21   PICO CALIFORNIA - YES ON 55, 56, AND 57 (NON P...            SUPPORT  \n",
       "22   UNITED TEACHERS LOS ANGELES-POLITICAL ACTION C...            SUPPORT  \n",
       "23   PROTECT SMALL BUSINESS AND SMOKE FREE ALTERNAT...             OPPOSE  \n",
       "24   FIGHT CANCER - YES ON 56, SPONSORED BY AMERICA...            SUPPORT  \n",
       "25   NO ON 56 - STOP THE SPECIAL INTEREST TAX GRAB....             OPPOSE  \n",
       "26   YES ON 56 - SAVES LIVES CALIFORNIA, A COALITIO...            SUPPORT  \n",
       "27   MILLION VOTER PROJECT ACTION FUND - YES ON 55 ...            SUPPORT  \n",
       "28   CALIFORNIA KIDS CAMPAIGN, YES ON PROPS 55 & 56...            SUPPORT  \n",
       "29   PICO CALIFORNIA - YES ON 55, 56, AND 57 (NON P...            SUPPORT  \n",
       "..                                                 ...                ...  \n",
       "72   NEWSOM BALLOT MEASURE COMMITTEE; SAFETY FOR AL...            SUPPORT  \n",
       "73   VETO GUNMAGEDDON, CITIZENS WHO ARE OPPOSED TO ...             OPPOSE  \n",
       "74   YES ON 64, CALIFORNIANS TO CONTROL, REGULATE A...            SUPPORT  \n",
       "75                              NEW APPROACH PAC (MPO)            SUPPORT  \n",
       "76   CALIFORNIANS FOR SENSIBLE REFORM, SPONSORED BY...            SUPPORT  \n",
       "77   PUBLIC AND MENTAL HEALTH ADVOCATES AGAINST 64,...             OPPOSE  \n",
       "78   MARIJUANA POLICY PROJECT OF CALIFORNIA, YES ON 64            SUPPORT  \n",
       "79   CALIFORNIANS FOR RESPONSIBLE MARIJUANA REFORM,...            SUPPORT  \n",
       "80          ADULT USE CAMPAIGN FOR PROPOSITION 64; THE            SUPPORT  \n",
       "81   SAM ACTION, INC., A COMMITTEE AGAINST PROPOSIT...             OPPOSE  \n",
       "82   DRUG POLICY ACTION - NON PROFIT 501C4, YES ON ...            SUPPORT  \n",
       "83        FUND FOR POLICY REFORM (NONPROFIT 501(C)(4))            SUPPORT  \n",
       "84                         MOMS STRONG AGAINST PROP 64             OPPOSE  \n",
       "85   AMERICAN PROGRESSIVE BAG ALLIANCE, A PROJECT O...            SUPPORT  \n",
       "86   CALIFORNIANS TO MEND, NOT END, THE DEATH PENAL...            SUPPORT  \n",
       "87   CALIFORNIA CORRECTIONAL PEACE OFFICERS ASSOCIA...            SUPPORT  \n",
       "88        FUND FOR POLICY REFORM (NONPROFIT 501(C)(4))             OPPOSE  \n",
       "89   PROTEUS ACTION LEAGUE NON-PROFIT 501 (C)(4) OR...             OPPOSE  \n",
       "90   YES ON 62, NO ON 66. REPLACE THE COSTLY, FAILE...             OPPOSE  \n",
       "91   MILLION VOTER PROJECT ACTION FUND - YES ON 55,...             OPPOSE  \n",
       "92   SAN FRANCISCO POLICE OFFICERS ASSOCIATION ISSU...            SUPPORT  \n",
       "93   LOS ANGELES POLICE PROTECTIVE LEAGUE ISSUES PA...            SUPPORT  \n",
       "94   NO ON PROP 66, CALIFORNIANS FOR FAIR JUSTICE, ...             OPPOSE  \n",
       "95   YES ON 67 - PROTECT THE PLASTIC BAG BAN, SPONS...            SUPPORT  \n",
       "96   AMERICAN PROGRESSIVE BAG ALLIANCE, A PROJECT O...             OPPOSE  \n",
       "97   SAVE THE BAG BAN, YES ON 67, SPONSORED BY ENVI...            SUPPORT  \n",
       "98   YES ON 67 - CALIFORNIANS AGAINST WASTE - PROTE...            SUPPORT  \n",
       "99   CALIFORNIA GROCERS ASSOCIATION ISSUES COMMITTE...            SUPPORT  \n",
       "100      SAVE THE BAY ACTION FUND PAC - YES ON PROP 67            SUPPORT  \n",
       "101  SAVE THE BAY ACTION FUND COMMITTEE TO SUPPORT ...            SUPPORT  \n",
       "\n",
       "[102 rows x 8 columns]>"
      ]
     },
     "execution_count": 52,
     "metadata": {},
     "output_type": "execute_result"
    }
   ],
   "source": [
    "props.head"
   ]
  },
  {
   "cell_type": "code",
   "execution_count": 53,
   "metadata": {},
   "outputs": [
    {
     "data": {
      "text/plain": [
       "<bound method DataFrame.info of                                           ocd_prop_id  calaccess_prop_id  \\\n",
       "0    ocd-contest/b51dc64d-3562-4913-a190-69f5088c22a6            1376258   \n",
       "1    ocd-contest/b51dc64d-3562-4913-a190-69f5088c22a6            1376258   \n",
       "2    ocd-contest/b51dc64d-3562-4913-a190-69f5088c22a6            1376258   \n",
       "3    ocd-contest/b51dc64d-3562-4913-a190-69f5088c22a6            1376258   \n",
       "4    ocd-contest/85990193-9d6f-4600-b8e7-bf1317841d82            1362198   \n",
       "5    ocd-contest/85990193-9d6f-4600-b8e7-bf1317841d82            1362198   \n",
       "6    ocd-contest/85990193-9d6f-4600-b8e7-bf1317841d82            1362198   \n",
       "7    ocd-contest/9fb6a199-7520-433c-a290-83e016a9d389            1376142   \n",
       "8    ocd-contest/9fb6a199-7520-433c-a290-83e016a9d389            1376142   \n",
       "9    ocd-contest/9fb6a199-7520-433c-a290-83e016a9d389            1376142   \n",
       "10   ocd-contest/9fb6a199-7520-433c-a290-83e016a9d389            1376142   \n",
       "11   ocd-contest/e0c5f9f0-63a9-4c15-9a5c-017e20ac15bc            1381642   \n",
       "12   ocd-contest/e0c5f9f0-63a9-4c15-9a5c-017e20ac15bc            1381642   \n",
       "13   ocd-contest/e0c5f9f0-63a9-4c15-9a5c-017e20ac15bc            1381642   \n",
       "14   ocd-contest/e0c5f9f0-63a9-4c15-9a5c-017e20ac15bc            1381642   \n",
       "15   ocd-contest/446ec3da-7de1-45f0-9f97-228e53c6a9f6            1382647   \n",
       "16   ocd-contest/446ec3da-7de1-45f0-9f97-228e53c6a9f6            1382647   \n",
       "17   ocd-contest/446ec3da-7de1-45f0-9f97-228e53c6a9f6            1382647   \n",
       "18   ocd-contest/446ec3da-7de1-45f0-9f97-228e53c6a9f6            1382647   \n",
       "19   ocd-contest/446ec3da-7de1-45f0-9f97-228e53c6a9f6            1382647   \n",
       "20   ocd-contest/446ec3da-7de1-45f0-9f97-228e53c6a9f6            1382647   \n",
       "21   ocd-contest/446ec3da-7de1-45f0-9f97-228e53c6a9f6            1382647   \n",
       "22   ocd-contest/446ec3da-7de1-45f0-9f97-228e53c6a9f6            1382647   \n",
       "23   ocd-contest/c2efe0d3-e9f4-4dfd-a0b7-a35757ef4ae9            1381640   \n",
       "24   ocd-contest/c2efe0d3-e9f4-4dfd-a0b7-a35757ef4ae9            1381640   \n",
       "25   ocd-contest/c2efe0d3-e9f4-4dfd-a0b7-a35757ef4ae9            1381640   \n",
       "26   ocd-contest/c2efe0d3-e9f4-4dfd-a0b7-a35757ef4ae9            1381640   \n",
       "27   ocd-contest/c2efe0d3-e9f4-4dfd-a0b7-a35757ef4ae9            1381640   \n",
       "28   ocd-contest/c2efe0d3-e9f4-4dfd-a0b7-a35757ef4ae9            1381640   \n",
       "29   ocd-contest/c2efe0d3-e9f4-4dfd-a0b7-a35757ef4ae9            1381640   \n",
       "..                                                ...                ...   \n",
       "72   ocd-contest/e02dc48a-2ed3-4a87-859b-26c90f0539e7            1381803   \n",
       "73   ocd-contest/e02dc48a-2ed3-4a87-859b-26c90f0539e7            1381803   \n",
       "74   ocd-contest/232cb72c-1b11-4293-b4e2-a181e80d172e            1381868   \n",
       "75   ocd-contest/232cb72c-1b11-4293-b4e2-a181e80d172e            1381868   \n",
       "76   ocd-contest/232cb72c-1b11-4293-b4e2-a181e80d172e            1381868   \n",
       "77   ocd-contest/232cb72c-1b11-4293-b4e2-a181e80d172e            1381868   \n",
       "78   ocd-contest/232cb72c-1b11-4293-b4e2-a181e80d172e            1381868   \n",
       "79   ocd-contest/232cb72c-1b11-4293-b4e2-a181e80d172e            1381868   \n",
       "80   ocd-contest/232cb72c-1b11-4293-b4e2-a181e80d172e            1381868   \n",
       "81   ocd-contest/232cb72c-1b11-4293-b4e2-a181e80d172e            1381868   \n",
       "82   ocd-contest/232cb72c-1b11-4293-b4e2-a181e80d172e            1381868   \n",
       "83   ocd-contest/232cb72c-1b11-4293-b4e2-a181e80d172e            1381868   \n",
       "84   ocd-contest/232cb72c-1b11-4293-b4e2-a181e80d172e            1381868   \n",
       "85   ocd-contest/cac74f20-f59f-4857-8750-5f832a3549c9            1381520   \n",
       "86   ocd-contest/19eca91d-e494-4ee0-a345-8f96eeec8a3e            1381724   \n",
       "87   ocd-contest/19eca91d-e494-4ee0-a345-8f96eeec8a3e            1381724   \n",
       "88   ocd-contest/19eca91d-e494-4ee0-a345-8f96eeec8a3e            1381724   \n",
       "89   ocd-contest/19eca91d-e494-4ee0-a345-8f96eeec8a3e            1381724   \n",
       "90   ocd-contest/19eca91d-e494-4ee0-a345-8f96eeec8a3e            1381724   \n",
       "91   ocd-contest/19eca91d-e494-4ee0-a345-8f96eeec8a3e            1381724   \n",
       "92   ocd-contest/19eca91d-e494-4ee0-a345-8f96eeec8a3e            1381724   \n",
       "93   ocd-contest/19eca91d-e494-4ee0-a345-8f96eeec8a3e            1381724   \n",
       "94   ocd-contest/19eca91d-e494-4ee0-a345-8f96eeec8a3e            1381724   \n",
       "95   ocd-contest/7495cdbe-1aa7-4c26-9a55-aa4130347b95            1372638   \n",
       "96   ocd-contest/7495cdbe-1aa7-4c26-9a55-aa4130347b95            1372638   \n",
       "97   ocd-contest/7495cdbe-1aa7-4c26-9a55-aa4130347b95            1372638   \n",
       "98   ocd-contest/7495cdbe-1aa7-4c26-9a55-aa4130347b95            1372638   \n",
       "99   ocd-contest/7495cdbe-1aa7-4c26-9a55-aa4130347b95            1372638   \n",
       "100  ocd-contest/7495cdbe-1aa7-4c26-9a55-aa4130347b95            1372638   \n",
       "101  ocd-contest/7495cdbe-1aa7-4c26-9a55-aa4130347b95            1372638   \n",
       "\n",
       "     ccdc_prop_id                                          prop_name  \\\n",
       "0              70  PROPOSITION 051 - SCHOOL BONDS. FUNDING FOR K-...   \n",
       "1              70  PROPOSITION 051 - SCHOOL BONDS. FUNDING FOR K-...   \n",
       "2              70  PROPOSITION 051 - SCHOOL BONDS. FUNDING FOR K-...   \n",
       "3              70  PROPOSITION 051 - SCHOOL BONDS. FUNDING FOR K-...   \n",
       "4              71  PROPOSITION 052 - STATE FEES ON HOSPITALS. FED...   \n",
       "5              71  PROPOSITION 052 - STATE FEES ON HOSPITALS. FED...   \n",
       "6              71  PROPOSITION 052 - STATE FEES ON HOSPITALS. FED...   \n",
       "7              72  PROPOSITION 053 - REVENUE BONDS. STATEWIDE VOT...   \n",
       "8              72  PROPOSITION 053 - REVENUE BONDS. STATEWIDE VOT...   \n",
       "9              72  PROPOSITION 053 - REVENUE BONDS. STATEWIDE VOT...   \n",
       "10             72  PROPOSITION 053 - REVENUE BONDS. STATEWIDE VOT...   \n",
       "11             73  PROPOSITION 054 - LEGISLATURE. LEGISLATION AND...   \n",
       "12             73  PROPOSITION 054 - LEGISLATURE. LEGISLATION AND...   \n",
       "13             73  PROPOSITION 054 - LEGISLATURE. LEGISLATION AND...   \n",
       "14             73  PROPOSITION 054 - LEGISLATURE. LEGISLATION AND...   \n",
       "15             74  PROPOSITION 055 - TAX EXTENSION TO FUND EDUCAT...   \n",
       "16             74  PROPOSITION 055 - TAX EXTENSION TO FUND EDUCAT...   \n",
       "17             74  PROPOSITION 055 - TAX EXTENSION TO FUND EDUCAT...   \n",
       "18             74  PROPOSITION 055 - TAX EXTENSION TO FUND EDUCAT...   \n",
       "19             74  PROPOSITION 055 - TAX EXTENSION TO FUND EDUCAT...   \n",
       "20             74  PROPOSITION 055 - TAX EXTENSION TO FUND EDUCAT...   \n",
       "21             74  PROPOSITION 055 - TAX EXTENSION TO FUND EDUCAT...   \n",
       "22             74  PROPOSITION 055 - TAX EXTENSION TO FUND EDUCAT...   \n",
       "23             75  PROPOSITION 056 - CIGARETTE TAX TO FUND HEALTH...   \n",
       "24             75  PROPOSITION 056 - CIGARETTE TAX TO FUND HEALTH...   \n",
       "25             75  PROPOSITION 056 - CIGARETTE TAX TO FUND HEALTH...   \n",
       "26             75  PROPOSITION 056 - CIGARETTE TAX TO FUND HEALTH...   \n",
       "27             75  PROPOSITION 056 - CIGARETTE TAX TO FUND HEALTH...   \n",
       "28             75  PROPOSITION 056 - CIGARETTE TAX TO FUND HEALTH...   \n",
       "29             75  PROPOSITION 056 - CIGARETTE TAX TO FUND HEALTH...   \n",
       "..            ...                                                ...   \n",
       "72             82  PROPOSITION 063- FIREARMS. AMMUNITION SALES. I...   \n",
       "73             82  PROPOSITION 063- FIREARMS. AMMUNITION SALES. I...   \n",
       "74             83  PROPOSITION 064- MARIJUANA LEGALIZATION. INITI...   \n",
       "75             83  PROPOSITION 064- MARIJUANA LEGALIZATION. INITI...   \n",
       "76             83  PROPOSITION 064- MARIJUANA LEGALIZATION. INITI...   \n",
       "77             83  PROPOSITION 064- MARIJUANA LEGALIZATION. INITI...   \n",
       "78             83  PROPOSITION 064- MARIJUANA LEGALIZATION. INITI...   \n",
       "79             83  PROPOSITION 064- MARIJUANA LEGALIZATION. INITI...   \n",
       "80             83  PROPOSITION 064- MARIJUANA LEGALIZATION. INITI...   \n",
       "81             83  PROPOSITION 064- MARIJUANA LEGALIZATION. INITI...   \n",
       "82             83  PROPOSITION 064- MARIJUANA LEGALIZATION. INITI...   \n",
       "83             83  PROPOSITION 064- MARIJUANA LEGALIZATION. INITI...   \n",
       "84             83  PROPOSITION 064- MARIJUANA LEGALIZATION. INITI...   \n",
       "85             84  PROPOSITION 065- CARRY-OUT BAGS. CHARGES. INIT...   \n",
       "86             85  PROPOSITION 066- DEATH PENALTY. PROCEDURES. IN...   \n",
       "87             85  PROPOSITION 066- DEATH PENALTY. PROCEDURES. IN...   \n",
       "88             85  PROPOSITION 066- DEATH PENALTY. PROCEDURES. IN...   \n",
       "89             85  PROPOSITION 066- DEATH PENALTY. PROCEDURES. IN...   \n",
       "90             85  PROPOSITION 066- DEATH PENALTY. PROCEDURES. IN...   \n",
       "91             85  PROPOSITION 066- DEATH PENALTY. PROCEDURES. IN...   \n",
       "92             85  PROPOSITION 066- DEATH PENALTY. PROCEDURES. IN...   \n",
       "93             85  PROPOSITION 066- DEATH PENALTY. PROCEDURES. IN...   \n",
       "94             85  PROPOSITION 066- DEATH PENALTY. PROCEDURES. IN...   \n",
       "95             86  PROPOSITION 067- REFERENDUM TO OVERTURN BAN ON...   \n",
       "96             86  PROPOSITION 067- REFERENDUM TO OVERTURN BAN ON...   \n",
       "97             86  PROPOSITION 067- REFERENDUM TO OVERTURN BAN ON...   \n",
       "98             86  PROPOSITION 067- REFERENDUM TO OVERTURN BAN ON...   \n",
       "99             86  PROPOSITION 067- REFERENDUM TO OVERTURN BAN ON...   \n",
       "100            86  PROPOSITION 067- REFERENDUM TO OVERTURN BAN ON...   \n",
       "101            86  PROPOSITION 067- REFERENDUM TO OVERTURN BAN ON...   \n",
       "\n",
       "     ccdc_committee_id  calaccess_committee_id  \\\n",
       "0                  382                 1374469   \n",
       "1                  383                 1220380   \n",
       "2                  384                 1282321   \n",
       "3                  385                 1382843   \n",
       "4                  386                 1362973   \n",
       "5                  387                 1381488   \n",
       "6                  388                 1373047   \n",
       "7                  389                 1376040   \n",
       "8                  390                 1378875   \n",
       "9                  391                  761010   \n",
       "10                 392                 1389930   \n",
       "11                 396                 1389997   \n",
       "12                 393                 1381029   \n",
       "13                 394                 1386494   \n",
       "14                 395                 1385928   \n",
       "15                 397                 1384591   \n",
       "16                 398                 1381382   \n",
       "17                 399                 1391170   \n",
       "18                 400                 1390602   \n",
       "19                 401                 1385538   \n",
       "20                 402                 1385886   \n",
       "21                 403                 1372760   \n",
       "22                 404                  931704   \n",
       "23                 405                 1388865   \n",
       "24                 406                 1383858   \n",
       "25                 407                 1386637   \n",
       "26                 408                 1377991   \n",
       "27                 409                 1384591   \n",
       "28                 410                 1385538   \n",
       "29                 411                 1372760   \n",
       "..                 ...                     ...   \n",
       "72                 454                 1380675   \n",
       "73                 455                 1387279   \n",
       "74                 456                 1381808   \n",
       "75                 457                 1382525   \n",
       "76                 458                 1376077   \n",
       "77                 459                 1382568   \n",
       "78                 460                 1371855   \n",
       "79                 461                 1343793   \n",
       "80                 462                 1386560   \n",
       "81                 463                 1387789   \n",
       "82                 464                 1385506   \n",
       "83                 465                 1385745   \n",
       "84                 466                 1390962   \n",
       "85                 467                 1372902   \n",
       "86                 468                 1346266   \n",
       "87                 469                 1302403   \n",
       "88                 470                 1385745   \n",
       "89                 471                 1386494   \n",
       "90                 472                 1380590   \n",
       "91                 473                 1391170   \n",
       "92                 474                 1317554   \n",
       "93                 475                 1336580   \n",
       "94                 476                 1383946   \n",
       "95                 477                 1372900   \n",
       "96                 478                 1372902   \n",
       "97                 479                 1329332   \n",
       "98                 480                 1374885   \n",
       "99                 481                 1346973   \n",
       "100                482                 1381938   \n",
       "101                483                 1389817   \n",
       "\n",
       "                                        committee_name committee_position  \n",
       "0    YES ON PROPOSITION 51 - CALIFORNIANS FOR QUALI...            SUPPORT  \n",
       "1    COMMUNITY COLLEGE FACILITY COALITION ISSUES CO...            SUPPORT  \n",
       "2    TORLAKSON'S INVEST IN CALIFORNIA A BALLOT MEAS...            SUPPORT  \n",
       "3    CALIFORNIA TAXPAYERS AND EDUCATORS OPPOSED TO ...             OPPOSE  \n",
       "4    YES ON PROPOSITION 52 - A COALITION OF CALIFOR...            SUPPORT  \n",
       "5    CALIFORNIANS FOR HOSPITAL ACCOUNTABILITY AND Q...             OPPOSE  \n",
       "6    SERVICE EMPLOYEES INTERNATIONAL UNION, UNITED ...             OPPOSE  \n",
       "7                        YES ON 53 - STOP BLANK CHECKS            SUPPORT  \n",
       "8    NO ON PROP 53 - CALIFORNIANS TO PROTECT LOCAL ...             OPPOSE  \n",
       "9    CA BUSINESS PAC, SP0NSORED BY CA CHAMBER OF CO...             OPPOSE  \n",
       "10         NO ON 53, NEIGHBORS DEFENDING LOCAL CONTROL             OPPOSE  \n",
       "11   CALIFORNIA COMMON CAUSE -- YES ON 54 AND 59 (N...            SUPPORT  \n",
       "12   YES ON 54 - VOTERS FIRST, NOT SPECIAL INTEREST...            SUPPORT  \n",
       "13   PROTEUS ACTION LEAGUE NON-PROFIT 501 (C)(4) OR...            SUPPORT  \n",
       "14           CALIFORNIANS FOR AN EFFECTIVE LEGISLATURE             OPPOSE  \n",
       "15   MILLION VOTER PROJECT ACTION FUND - YES ON 55 ...            SUPPORT  \n",
       "16   YES ON 55 - CALIFORNIANS FOR BUDGET STABILITY,...            SUPPORT  \n",
       "17   MILLION VOTER PROJECT ACTION FUND - YES ON 55,...            SUPPORT  \n",
       "18   COMMON SENSE KIDS ACTION, INC., YES ON PROPS. ...            SUPPORT  \n",
       "19   CALIFORNIA KIDS CAMPAIGN, YES ON PROPS 55 & 56...            SUPPORT  \n",
       "20   NO ON PROPOSITION 55, CALIFORNIA'S FUTURE PAC,...             OPPOSE  \n",
       "21   PICO CALIFORNIA - YES ON 55, 56, AND 57 (NON P...            SUPPORT  \n",
       "22   UNITED TEACHERS LOS ANGELES-POLITICAL ACTION C...            SUPPORT  \n",
       "23   PROTECT SMALL BUSINESS AND SMOKE FREE ALTERNAT...             OPPOSE  \n",
       "24   FIGHT CANCER - YES ON 56, SPONSORED BY AMERICA...            SUPPORT  \n",
       "25   NO ON 56 - STOP THE SPECIAL INTEREST TAX GRAB....             OPPOSE  \n",
       "26   YES ON 56 - SAVES LIVES CALIFORNIA, A COALITIO...            SUPPORT  \n",
       "27   MILLION VOTER PROJECT ACTION FUND - YES ON 55 ...            SUPPORT  \n",
       "28   CALIFORNIA KIDS CAMPAIGN, YES ON PROPS 55 & 56...            SUPPORT  \n",
       "29   PICO CALIFORNIA - YES ON 55, 56, AND 57 (NON P...            SUPPORT  \n",
       "..                                                 ...                ...  \n",
       "72   NEWSOM BALLOT MEASURE COMMITTEE; SAFETY FOR AL...            SUPPORT  \n",
       "73   VETO GUNMAGEDDON, CITIZENS WHO ARE OPPOSED TO ...             OPPOSE  \n",
       "74   YES ON 64, CALIFORNIANS TO CONTROL, REGULATE A...            SUPPORT  \n",
       "75                              NEW APPROACH PAC (MPO)            SUPPORT  \n",
       "76   CALIFORNIANS FOR SENSIBLE REFORM, SPONSORED BY...            SUPPORT  \n",
       "77   PUBLIC AND MENTAL HEALTH ADVOCATES AGAINST 64,...             OPPOSE  \n",
       "78   MARIJUANA POLICY PROJECT OF CALIFORNIA, YES ON 64            SUPPORT  \n",
       "79   CALIFORNIANS FOR RESPONSIBLE MARIJUANA REFORM,...            SUPPORT  \n",
       "80          ADULT USE CAMPAIGN FOR PROPOSITION 64; THE            SUPPORT  \n",
       "81   SAM ACTION, INC., A COMMITTEE AGAINST PROPOSIT...             OPPOSE  \n",
       "82   DRUG POLICY ACTION - NON PROFIT 501C4, YES ON ...            SUPPORT  \n",
       "83        FUND FOR POLICY REFORM (NONPROFIT 501(C)(4))            SUPPORT  \n",
       "84                         MOMS STRONG AGAINST PROP 64             OPPOSE  \n",
       "85   AMERICAN PROGRESSIVE BAG ALLIANCE, A PROJECT O...            SUPPORT  \n",
       "86   CALIFORNIANS TO MEND, NOT END, THE DEATH PENAL...            SUPPORT  \n",
       "87   CALIFORNIA CORRECTIONAL PEACE OFFICERS ASSOCIA...            SUPPORT  \n",
       "88        FUND FOR POLICY REFORM (NONPROFIT 501(C)(4))             OPPOSE  \n",
       "89   PROTEUS ACTION LEAGUE NON-PROFIT 501 (C)(4) OR...             OPPOSE  \n",
       "90   YES ON 62, NO ON 66. REPLACE THE COSTLY, FAILE...             OPPOSE  \n",
       "91   MILLION VOTER PROJECT ACTION FUND - YES ON 55,...             OPPOSE  \n",
       "92   SAN FRANCISCO POLICE OFFICERS ASSOCIATION ISSU...            SUPPORT  \n",
       "93   LOS ANGELES POLICE PROTECTIVE LEAGUE ISSUES PA...            SUPPORT  \n",
       "94   NO ON PROP 66, CALIFORNIANS FOR FAIR JUSTICE, ...             OPPOSE  \n",
       "95   YES ON 67 - PROTECT THE PLASTIC BAG BAN, SPONS...            SUPPORT  \n",
       "96   AMERICAN PROGRESSIVE BAG ALLIANCE, A PROJECT O...             OPPOSE  \n",
       "97   SAVE THE BAG BAN, YES ON 67, SPONSORED BY ENVI...            SUPPORT  \n",
       "98   YES ON 67 - CALIFORNIANS AGAINST WASTE - PROTE...            SUPPORT  \n",
       "99   CALIFORNIA GROCERS ASSOCIATION ISSUES COMMITTE...            SUPPORT  \n",
       "100      SAVE THE BAY ACTION FUND PAC - YES ON PROP 67            SUPPORT  \n",
       "101  SAVE THE BAY ACTION FUND COMMITTEE TO SUPPORT ...            SUPPORT  \n",
       "\n",
       "[102 rows x 8 columns]>"
      ]
     },
     "execution_count": 53,
     "metadata": {},
     "output_type": "execute_result"
    }
   ],
   "source": [
    "props.info"
   ]
  },
  {
   "cell_type": "raw",
   "metadata": {},
   "source": []
  },
  {
   "cell_type": "code",
   "execution_count": 54,
   "metadata": {},
   "outputs": [
    {
     "data": {
      "text/plain": [
       "array([ 'PROPOSITION 051 - SCHOOL BONDS. FUNDING FOR K-12 SCHOOL AND COMMUNITY COLLEGE FACILITIES. INITIATIVE STATUTORY AMENDMENT.',\n",
       "       'PROPOSITION 052 - STATE FEES ON HOSPITALS. FEDERAL MEDI-CAL MATCHING FUNDS. INITIATIVE STATUTORY AND CONSTITUTIONAL AMENDMENT.',\n",
       "       'PROPOSITION 053 - REVENUE BONDS. STATEWIDE VOTER APPROVAL. INITIATIVE CONSTITUTIONAL AMENDMENT.',\n",
       "       'PROPOSITION 054 - LEGISLATURE. LEGISLATION AND PROCEEDINGS. INITIATIVE CONSTITUTIONAL AMENDMENT AND STATUTE.',\n",
       "       'PROPOSITION 055 - TAX EXTENSION TO FUND EDUCATION AND HEALTHCARE. INITIATIVE CONSTITUTIONAL AMENDMENT.',\n",
       "       'PROPOSITION 056 - CIGARETTE TAX TO FUND HEALTHCARE, TOBACCO USE PREVENTION, RESEARCH, AND LAW ENFORCEMENT. INITIATIVE CONSTITUTIONAL AMENDMENT AND STATUTE.',\n",
       "       'PROPOSITION 057 - CRIMINAL SENTENCES. JUVENILE CRIMINAL PROCEEDINGS AND SENTENCING. INITIATIVE CONSTITUTIONAL AMENDMENT AND STATUTE.',\n",
       "       'PROPOSITION 058 - SB 1174 (CHAPTER 753, STATUTES OF 2014), LARA. ENGLISH LANGUAGE EDUCATION',\n",
       "       'PROPOSITION 059- SB 254 (CHAPTER 20, STATUTES OF 2016), ALLEN. CAMPAIGN FINANCE: VOTER INSTRUCTION',\n",
       "       'PROPOSITION 060- ADULT FILMS. CONDOMS. HEALTH REQUIREMENTS. INITIATIVE STATUTE.',\n",
       "       'PROPOSITION 061- STATE PRESCRIPTION DRUG PURCHASES. PRICING STANDARDS. INITIATIVE STATUTE.',\n",
       "       'PROPOSITION 062- DEATH PENALTY. INITIATIVE STATUTE.',\n",
       "       'PROPOSITION 063- FIREARMS. AMMUNITION SALES. INTIATIVE STATUTE.',\n",
       "       'PROPOSITION 064- MARIJUANA LEGALIZATION. INITIATIVE STATUTE.',\n",
       "       'PROPOSITION 065- CARRY-OUT BAGS. CHARGES. INITIATIVE STATUTE.',\n",
       "       'PROPOSITION 066- DEATH PENALTY. PROCEDURES. INITIATIVE STATUTE.',\n",
       "       'PROPOSITION 067- REFERENDUM TO OVERTURN BAN ON SINGLE-USE PLASTIC BAGS.'], dtype=object)"
      ]
     },
     "execution_count": 54,
     "metadata": {},
     "output_type": "execute_result"
    }
   ],
   "source": [
    "props.prop_name.unique()"
   ]
  },
  {
   "cell_type": "markdown",
   "metadata": {},
   "source": [
    "Resumen del contenido de las columnas, con identidad object y int64"
   ]
  },
  {
   "cell_type": "code",
   "execution_count": 55,
   "metadata": {},
   "outputs": [
    {
     "name": "stdout",
     "output_type": "stream",
     "text": [
      "<class 'pandas.core.frame.DataFrame'>\n",
      "RangeIndex: 102 entries, 0 to 101\n",
      "Data columns (total 8 columns):\n",
      "ocd_prop_id               102 non-null object\n",
      "calaccess_prop_id         102 non-null int64\n",
      "ccdc_prop_id              102 non-null int64\n",
      "prop_name                 102 non-null object\n",
      "ccdc_committee_id         102 non-null int64\n",
      "calaccess_committee_id    102 non-null int64\n",
      "committee_name            102 non-null object\n",
      "committee_position        102 non-null object\n",
      "dtypes: int64(4), object(4)\n",
      "memory usage: 6.4+ KB\n"
     ]
    }
   ],
   "source": [
    "props.info()"
   ]
  },
  {
   "cell_type": "code",
   "execution_count": 56,
   "metadata": {
    "collapsed": true
   },
   "outputs": [],
   "source": [
    "contribs = pd.read_csv(\"http://www.firstpythonnotebook.org/_static/contributions.csv\")"
   ]
  },
  {
   "cell_type": "code",
   "execution_count": 57,
   "metadata": {},
   "outputs": [
    {
     "data": {
      "text/html": [
       "<div>\n",
       "<style>\n",
       "    .dataframe thead tr:only-child th {\n",
       "        text-align: right;\n",
       "    }\n",
       "\n",
       "    .dataframe thead th {\n",
       "        text-align: left;\n",
       "    }\n",
       "\n",
       "    .dataframe tbody tr th {\n",
       "        vertical-align: top;\n",
       "    }\n",
       "</style>\n",
       "<table border=\"1\" class=\"dataframe\">\n",
       "  <thead>\n",
       "    <tr style=\"text-align: right;\">\n",
       "      <th></th>\n",
       "      <th>calaccess_committee_id</th>\n",
       "      <th>committee_name</th>\n",
       "      <th>calaccess_filing_id</th>\n",
       "      <th>date_received</th>\n",
       "      <th>contributor_lastname</th>\n",
       "      <th>contributor_firstname</th>\n",
       "      <th>contributor_city</th>\n",
       "      <th>contributor_state</th>\n",
       "      <th>contributor_zip</th>\n",
       "      <th>contributor_employer</th>\n",
       "      <th>contributor_occupation</th>\n",
       "      <th>contributor_is_self_employed</th>\n",
       "      <th>amount</th>\n",
       "    </tr>\n",
       "  </thead>\n",
       "  <tbody>\n",
       "    <tr>\n",
       "      <th>0</th>\n",
       "      <td>1386560</td>\n",
       "      <td>ADULT USE CAMPAIGN FOR PROPOSITION 64; THE</td>\n",
       "      <td>2083796</td>\n",
       "      <td>2016-09-18</td>\n",
       "      <td>BERGMAN</td>\n",
       "      <td>GRETCHEN</td>\n",
       "      <td>SPRING VALLEY</td>\n",
       "      <td>CA</td>\n",
       "      <td>91978</td>\n",
       "      <td>A NEW PATH</td>\n",
       "      <td>EXECUTIVE DIRECTOR</td>\n",
       "      <td>False</td>\n",
       "      <td>84.0</td>\n",
       "    </tr>\n",
       "    <tr>\n",
       "      <th>1</th>\n",
       "      <td>1386560</td>\n",
       "      <td>ADULT USE CAMPAIGN FOR PROPOSITION 64; THE</td>\n",
       "      <td>2083796</td>\n",
       "      <td>2016-09-18</td>\n",
       "      <td>KAHLE</td>\n",
       "      <td>MYRNA</td>\n",
       "      <td>SAN DIEGO</td>\n",
       "      <td>CA</td>\n",
       "      <td>92109</td>\n",
       "      <td>NATIONAL SCHOOL DISTRICT</td>\n",
       "      <td>TEACHER</td>\n",
       "      <td>False</td>\n",
       "      <td>35.0</td>\n",
       "    </tr>\n",
       "    <tr>\n",
       "      <th>2</th>\n",
       "      <td>1386560</td>\n",
       "      <td>ADULT USE CAMPAIGN FOR PROPOSITION 64; THE</td>\n",
       "      <td>2083796</td>\n",
       "      <td>2016-07-15</td>\n",
       "      <td>MCDEVITT</td>\n",
       "      <td>LEO</td>\n",
       "      <td>ESCONDIDO</td>\n",
       "      <td>CA</td>\n",
       "      <td>92025</td>\n",
       "      <td>LIFE IONIZERS</td>\n",
       "      <td>SEO/CONTENT MANAGER</td>\n",
       "      <td>False</td>\n",
       "      <td>198.0</td>\n",
       "    </tr>\n",
       "    <tr>\n",
       "      <th>3</th>\n",
       "      <td>1386560</td>\n",
       "      <td>ADULT USE CAMPAIGN FOR PROPOSITION 64; THE</td>\n",
       "      <td>2083796</td>\n",
       "      <td>2016-08-10</td>\n",
       "      <td>WARREN-SAMARIPA</td>\n",
       "      <td>STEPHANIE</td>\n",
       "      <td>SAN DIEGO</td>\n",
       "      <td>CA</td>\n",
       "      <td>92116</td>\n",
       "      <td>STEPHANIE WARREN SAMARIPA</td>\n",
       "      <td>ENTREPRENEUR</td>\n",
       "      <td>False</td>\n",
       "      <td>-50.0</td>\n",
       "    </tr>\n",
       "    <tr>\n",
       "      <th>4</th>\n",
       "      <td>1386560</td>\n",
       "      <td>ADULT USE CAMPAIGN FOR PROPOSITION 64; THE</td>\n",
       "      <td>2083796</td>\n",
       "      <td>2016-07-26</td>\n",
       "      <td>WARREN-SAMARIPA</td>\n",
       "      <td>STEPHANIE</td>\n",
       "      <td>SAN DIEGO</td>\n",
       "      <td>CA</td>\n",
       "      <td>92116</td>\n",
       "      <td>STEPHANIE WARREN SAMARIPA</td>\n",
       "      <td>ENTREPRENEUR</td>\n",
       "      <td>True</td>\n",
       "      <td>50.0</td>\n",
       "    </tr>\n",
       "  </tbody>\n",
       "</table>\n",
       "</div>"
      ],
      "text/plain": [
       "   calaccess_committee_id                              committee_name  \\\n",
       "0                 1386560  ADULT USE CAMPAIGN FOR PROPOSITION 64; THE   \n",
       "1                 1386560  ADULT USE CAMPAIGN FOR PROPOSITION 64; THE   \n",
       "2                 1386560  ADULT USE CAMPAIGN FOR PROPOSITION 64; THE   \n",
       "3                 1386560  ADULT USE CAMPAIGN FOR PROPOSITION 64; THE   \n",
       "4                 1386560  ADULT USE CAMPAIGN FOR PROPOSITION 64; THE   \n",
       "\n",
       "   calaccess_filing_id date_received contributor_lastname  \\\n",
       "0              2083796    2016-09-18              BERGMAN   \n",
       "1              2083796    2016-09-18                KAHLE   \n",
       "2              2083796    2016-07-15             MCDEVITT   \n",
       "3              2083796    2016-08-10      WARREN-SAMARIPA   \n",
       "4              2083796    2016-07-26      WARREN-SAMARIPA   \n",
       "\n",
       "  contributor_firstname contributor_city contributor_state contributor_zip  \\\n",
       "0              GRETCHEN    SPRING VALLEY                CA           91978   \n",
       "1                 MYRNA        SAN DIEGO                CA           92109   \n",
       "2                   LEO        ESCONDIDO                CA           92025   \n",
       "3             STEPHANIE        SAN DIEGO                CA           92116   \n",
       "4             STEPHANIE        SAN DIEGO                CA           92116   \n",
       "\n",
       "        contributor_employer contributor_occupation  \\\n",
       "0                 A NEW PATH     EXECUTIVE DIRECTOR   \n",
       "1   NATIONAL SCHOOL DISTRICT                TEACHER   \n",
       "2              LIFE IONIZERS    SEO/CONTENT MANAGER   \n",
       "3  STEPHANIE WARREN SAMARIPA           ENTREPRENEUR   \n",
       "4  STEPHANIE WARREN SAMARIPA           ENTREPRENEUR   \n",
       "\n",
       "   contributor_is_self_employed  amount  \n",
       "0                         False    84.0  \n",
       "1                         False    35.0  \n",
       "2                         False   198.0  \n",
       "3                         False   -50.0  \n",
       "4                          True    50.0  "
      ]
     },
     "execution_count": 57,
     "metadata": {},
     "output_type": "execute_result"
    }
   ],
   "source": [
    "contribs.head()"
   ]
  },
  {
   "cell_type": "code",
   "execution_count": 58,
   "metadata": {},
   "outputs": [
    {
     "name": "stdout",
     "output_type": "stream",
     "text": [
      "<class 'pandas.core.frame.DataFrame'>\n",
      "RangeIndex: 56379 entries, 0 to 56378\n",
      "Data columns (total 13 columns):\n",
      "calaccess_committee_id          56379 non-null int64\n",
      "committee_name                  56379 non-null object\n",
      "calaccess_filing_id             56379 non-null int64\n",
      "date_received                   56379 non-null object\n",
      "contributor_lastname            56375 non-null object\n",
      "contributor_firstname           53411 non-null object\n",
      "contributor_city                56369 non-null object\n",
      "contributor_state               56363 non-null object\n",
      "contributor_zip                 56366 non-null object\n",
      "contributor_employer            48572 non-null object\n",
      "contributor_occupation          53273 non-null object\n",
      "contributor_is_self_employed    56379 non-null bool\n",
      "amount                          56379 non-null float64\n",
      "dtypes: bool(1), float64(1), int64(2), object(9)\n",
      "memory usage: 5.2+ MB\n"
     ]
    }
   ],
   "source": [
    "contribs.info()"
   ]
  },
  {
   "cell_type": "code",
   "execution_count": 59,
   "metadata": {},
   "outputs": [
    {
     "ename": "SyntaxError",
     "evalue": "invalid syntax (<ipython-input-59-e8dfb2e95d09>, line 1)",
     "output_type": "error",
     "traceback": [
      "\u001b[0;36m  File \u001b[0;32m\"<ipython-input-59-e8dfb2e95d09>\"\u001b[0;36m, line \u001b[0;32m1\u001b[0m\n\u001b[0;31m    contribs.contributor_occupation[]\u001b[0m\n\u001b[0m                                    ^\u001b[0m\n\u001b[0;31mSyntaxError\u001b[0m\u001b[0;31m:\u001b[0m invalid syntax\n"
     ]
    }
   ],
   "source": [
    "contribs.contributor_occupation[]"
   ]
  },
  {
   "cell_type": "code",
   "execution_count": null,
   "metadata": {
    "collapsed": true
   },
   "outputs": [],
   "source": [
    "props.prop_name.value_counts().reset_index()"
   ]
  },
  {
   "cell_type": "code",
   "execution_count": null,
   "metadata": {
    "collapsed": true
   },
   "outputs": [],
   "source": [
    "props.prop_name.value_counts()"
   ]
  },
  {
   "cell_type": "code",
   "execution_count": null,
   "metadata": {
    "collapsed": true
   },
   "outputs": [],
   "source": [
    "prop = props[props.prop_name == 'PROPOSITION 064- MARIJUANA LEGALIZATION. INITIATIVE STATUTE.']"
   ]
  },
  {
   "cell_type": "code",
   "execution_count": null,
   "metadata": {
    "collapsed": true
   },
   "outputs": [],
   "source": [
    "prop.info()"
   ]
  },
  {
   "cell_type": "code",
   "execution_count": null,
   "metadata": {
    "collapsed": true
   },
   "outputs": [],
   "source": [
    "contribs.info()"
   ]
  },
  {
   "cell_type": "code",
   "execution_count": null,
   "metadata": {
    "collapsed": true
   },
   "outputs": [],
   "source": [
    "merged = pd.merge(prop, contribs, on=\"calaccess_committee_id\")"
   ]
  },
  {
   "cell_type": "code",
   "execution_count": null,
   "metadata": {
    "collapsed": true
   },
   "outputs": [],
   "source": [
    "merged.head()"
   ]
  },
  {
   "cell_type": "code",
   "execution_count": null,
   "metadata": {
    "collapsed": true
   },
   "outputs": [],
   "source": [
    "merged.info()"
   ]
  },
  {
   "cell_type": "code",
   "execution_count": null,
   "metadata": {
    "collapsed": true
   },
   "outputs": [],
   "source": [
    "merged.amount.sum()"
   ]
  },
  {
   "cell_type": "code",
   "execution_count": null,
   "metadata": {
    "collapsed": true
   },
   "outputs": [],
   "source": [
    "merged.committee_position.value_counts()"
   ]
  },
  {
   "cell_type": "code",
   "execution_count": null,
   "metadata": {
    "collapsed": true
   },
   "outputs": [],
   "source": [
    "support = merged[merged.committee_position == \"SUPPORT\"]"
   ]
  },
  {
   "cell_type": "code",
   "execution_count": null,
   "metadata": {
    "collapsed": true
   },
   "outputs": [],
   "source": [
    "oppose = merged[merged.committee_position == \"OPPOSE\"]"
   ]
  },
  {
   "cell_type": "code",
   "execution_count": null,
   "metadata": {
    "collapsed": true
   },
   "outputs": [],
   "source": [
    "support.amount.sum()"
   ]
  },
  {
   "cell_type": "code",
   "execution_count": null,
   "metadata": {
    "collapsed": true
   },
   "outputs": [],
   "source": [
    "oppose.amount.sum()"
   ]
  },
  {
   "cell_type": "code",
   "execution_count": null,
   "metadata": {
    "collapsed": true
   },
   "outputs": [],
   "source": [
    "support.amount.sum() / merged.amount.sum()"
   ]
  },
  {
   "cell_type": "code",
   "execution_count": null,
   "metadata": {
    "collapsed": true
   },
   "outputs": [],
   "source": [
    "merged.sort_values(\"amount\", ascending=False)"
   ]
  },
  {
   "cell_type": "code",
   "execution_count": null,
   "metadata": {
    "collapsed": true
   },
   "outputs": [],
   "source": [
    "oppose.sort_values(\"amount\", ascending=False)"
   ]
  },
  {
   "cell_type": "code",
   "execution_count": null,
   "metadata": {
    "collapsed": true,
    "scrolled": true
   },
   "outputs": [],
   "source": [
    "merged.groupby(\"committee_name_x\").amount.sum().reset_index().sort_values(\"amount\", ascending=False)"
   ]
  },
  {
   "cell_type": "code",
   "execution_count": null,
   "metadata": {
    "collapsed": true
   },
   "outputs": [],
   "source": [
    "merged.groupby([\"contributor_firstname\", \"contributor_lastname\", \"committee_position\"]).amount.sum().reset_index().sort_values(\"amount\", ascending=False)"
   ]
  },
  {
   "cell_type": "code",
   "execution_count": null,
   "metadata": {
    "collapsed": true
   },
   "outputs": [],
   "source": [
    "top_supporters = support.groupby(\n",
    "    [\"contributor_firstname\", \"contributor_lastname\"]\n",
    ").amount.sum().reset_index().sort_values(\"amount\", ascending=False).head(10)"
   ]
  },
  {
   "cell_type": "code",
   "execution_count": 60,
   "metadata": {},
   "outputs": [
    {
     "ename": "NameError",
     "evalue": "name 'top_supporters' is not defined",
     "output_type": "error",
     "traceback": [
      "\u001b[0;31m------------------------------------------------------------------------\u001b[0m",
      "\u001b[0;31mNameError\u001b[0m                              Traceback (most recent call last)",
      "\u001b[0;32m<ipython-input-60-e646e3b238a4>\u001b[0m in \u001b[0;36m<module>\u001b[0;34m()\u001b[0m\n\u001b[0;32m----> 1\u001b[0;31m \u001b[0mtop_supporters\u001b[0m\u001b[0;34m.\u001b[0m\u001b[0mhead\u001b[0m\u001b[0;34m(\u001b[0m\u001b[0;36m10\u001b[0m\u001b[0;34m)\u001b[0m\u001b[0;34m\u001b[0m\u001b[0m\n\u001b[0m",
      "\u001b[0;31mNameError\u001b[0m: name 'top_supporters' is not defined"
     ]
    }
   ],
   "source": [
    "top_supporters.head(10)"
   ]
  },
  {
   "cell_type": "code",
   "execution_count": 61,
   "metadata": {},
   "outputs": [
    {
     "ename": "NameError",
     "evalue": "name 'top_supporters' is not defined",
     "output_type": "error",
     "traceback": [
      "\u001b[0;31m------------------------------------------------------------------------\u001b[0m",
      "\u001b[0;31mNameError\u001b[0m                              Traceback (most recent call last)",
      "\u001b[0;32m<ipython-input-61-b65fb99544d9>\u001b[0m in \u001b[0;36m<module>\u001b[0;34m()\u001b[0m\n\u001b[0;32m----> 1\u001b[0;31m \u001b[0mtop_supporters\u001b[0m\u001b[0;34m.\u001b[0m\u001b[0mamount\u001b[0m\u001b[0;34m.\u001b[0m\u001b[0mplot\u001b[0m\u001b[0;34m.\u001b[0m\u001b[0mbar\u001b[0m\u001b[0;34m(\u001b[0m\u001b[0;34m)\u001b[0m\u001b[0;34m\u001b[0m\u001b[0m\n\u001b[0m",
      "\u001b[0;31mNameError\u001b[0m: name 'top_supporters' is not defined"
     ]
    }
   ],
   "source": [
    "top_supporters.amount.plot.bar()"
   ]
  },
  {
   "cell_type": "code",
   "execution_count": null,
   "metadata": {
    "collapsed": true
   },
   "outputs": [],
   "source": []
  }
 ],
 "metadata": {
  "kernelspec": {
   "display_name": "Python 2",
   "language": "python",
   "name": "python2"
  },
  "language_info": {
   "codemirror_mode": {
    "name": "ipython",
    "version": 2
   },
   "file_extension": ".py",
   "mimetype": "text/x-python",
   "name": "python",
   "nbconvert_exporter": "python",
   "pygments_lexer": "ipython2",
   "version": "2.7.13"
  }
 },
 "nbformat": 4,
 "nbformat_minor": 2
}
